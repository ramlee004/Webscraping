{
 "cells": [
  {
   "cell_type": "code",
   "execution_count": 1,
   "metadata": {},
   "outputs": [],
   "source": [
    "import pandas as pd\n",
    "import selenium\n",
    "import requests\n"
   ]
  },
  {
   "cell_type": "code",
   "execution_count": 2,
   "metadata": {},
   "outputs": [],
   "source": [
    "from selenium import webdriver"
   ]
  },
  {
   "cell_type": "code",
   "execution_count": 3,
   "metadata": {},
   "outputs": [],
   "source": [
    "browser = webdriver.Chrome('chromedriver.exe')"
   ]
  },
  {
   "cell_type": "code",
   "execution_count": 4,
   "metadata": {},
   "outputs": [],
   "source": [
    "inshorts_url = 'https://www.inshorts.com/en/read'\n",
    "browser.get(inshorts_url)"
   ]
  },
  {
   "cell_type": "code",
   "execution_count": 5,
   "metadata": {},
   "outputs": [
    {
     "data": {
      "text/plain": [
       "25"
      ]
     },
     "execution_count": 5,
     "metadata": {},
     "output_type": "execute_result"
    }
   ],
   "source": [
    "news_articles = browser.find_elements_by_css_selector('div.news-card.z-depth-1')\n",
    "len(news_articles)"
   ]
  },
  {
   "cell_type": "code",
   "execution_count": null,
   "metadata": {},
   "outputs": [],
   "source": [
    "from selenium.common.exceptions import NoSuchElementException\n",
    "df = pd.DataFrame(columns = ['Article_Body','Author_name','Article_Day','Article_Header'])\n",
    "while True:\n",
    "    more_sel = 'div#load-more-btn.clickable.unselectable.load-more.z-depth-1.hoverable'\n",
    "    try:\n",
    "        load_more_button = browser.find_element_by_css_selector(more_sel)\n",
    "        load_more_button.click()\n",
    "        news_articles = browser.find_elements_by_css_selector('div.news-card.z-depth-1')\n",
    "    except:\n",
    "        None\n",
    "        break"
   ]
  },
  {
   "cell_type": "code",
   "execution_count": 16,
   "metadata": {},
   "outputs": [],
   "source": [
    "for news in news_articles:\n",
    "        reviews = browser.find_elements_by_css_selector('div.ui.segment.clearfix.brtop')\n",
    "        article_body = news.find_element_by_css_selector('div.news-card-content.news-right-box').text\n",
    "        article_day = news.find_element_by_xpath('/html/body/div[4]/div/div[3]/div[2]/div/div[2]/div/span[3]').text\n",
    "        article_author = news.find_element_by_css_selector('span.author').text\n",
    "        article_header = news.find_element_by_css_selector('a.clickable').text\n",
    "        curr_row = {\n",
    "            'Article_Body':article_body,\n",
    "            'Article_Day':article_day,\n",
    "            'Author_name':article_author,\n",
    "            'Article_Header':article_header\n",
    "        }\n",
    "        df= df.append(curr_row,ignore_index = True)"
   ]
  },
  {
   "cell_type": "code",
   "execution_count": 17,
   "metadata": {},
   "outputs": [
    {
     "data": {
      "text/plain": [
       "(72334, 4)"
      ]
     },
     "execution_count": 17,
     "metadata": {},
     "output_type": "execute_result"
    }
   ],
   "source": [
    "df.shape"
   ]
  },
  {
   "cell_type": "code",
   "execution_count": 19,
   "metadata": {},
   "outputs": [],
   "source": [
    "df.to_csv('Inshorts_news_articles.csv', sep=',')"
   ]
  },
  {
   "cell_type": "code",
   "execution_count": null,
   "metadata": {},
   "outputs": [],
   "source": []
  }
 ],
 "metadata": {
  "kernelspec": {
   "display_name": "Python 3",
   "language": "python",
   "name": "python3"
  },
  "language_info": {
   "codemirror_mode": {
    "name": "ipython",
    "version": 3
   },
   "file_extension": ".py",
   "mimetype": "text/x-python",
   "name": "python",
   "nbconvert_exporter": "python",
   "pygments_lexer": "ipython3",
   "version": "3.6.5"
  }
 },
 "nbformat": 4,
 "nbformat_minor": 2
}
